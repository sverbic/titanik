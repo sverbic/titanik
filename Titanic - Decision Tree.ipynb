{
 "cells": [
  {
   "cell_type": "markdown",
   "metadata": {},
   "source": [
    "# Titanik, stablo odlučivanja i \"matrica konfuzije\"\n",
    "\n",
    "Kako stablo odlučivanja može da pomogne u proceni šansi za preživljavanje? Koji su nam parametri važni i pouzdani? Koliko nam parametara treba da napravimo dobru predikciju? Kako da odredimo tačnost i preziznost modela?"
   ]
  },
  {
   "cell_type": "markdown",
   "metadata": {},
   "source": [
    "Primer \"Titanik\" koji koristimo je tipičan za mašinsko učenje. Podatke o putnicima sa Titanika je lako naći na netu. Preuzmite te podatke kao csv fajl i postavite u radni direktorijum."
   ]
  },
  {
   "cell_type": "code",
   "execution_count": 1,
   "metadata": {},
   "outputs": [],
   "source": [
    "titanic <- read.csv(\"titanic.csv\", header = TRUE, sep = \",\")"
   ]
  },
  {
   "cell_type": "markdown",
   "metadata": {},
   "source": [
    "Da vidimo zaglavlje tabele i imena kolona."
   ]
  },
  {
   "cell_type": "code",
   "execution_count": 2,
   "metadata": {},
   "outputs": [
    {
     "data": {
      "text/html": [
       "<table>\n",
       "<caption>A data.frame: 6 × 14</caption>\n",
       "<thead>\n",
       "\t<tr><th></th><th scope=col>pclass</th><th scope=col>survived</th><th scope=col>name</th><th scope=col>sex</th><th scope=col>age</th><th scope=col>sibsp</th><th scope=col>parch</th><th scope=col>ticket</th><th scope=col>fare</th><th scope=col>cabin</th><th scope=col>embarked</th><th scope=col>boat</th><th scope=col>body</th><th scope=col>home.dest</th></tr>\n",
       "\t<tr><th></th><th scope=col>&lt;int&gt;</th><th scope=col>&lt;int&gt;</th><th scope=col>&lt;fct&gt;</th><th scope=col>&lt;fct&gt;</th><th scope=col>&lt;dbl&gt;</th><th scope=col>&lt;int&gt;</th><th scope=col>&lt;int&gt;</th><th scope=col>&lt;fct&gt;</th><th scope=col>&lt;dbl&gt;</th><th scope=col>&lt;fct&gt;</th><th scope=col>&lt;fct&gt;</th><th scope=col>&lt;fct&gt;</th><th scope=col>&lt;int&gt;</th><th scope=col>&lt;fct&gt;</th></tr>\n",
       "</thead>\n",
       "<tbody>\n",
       "\t<tr><th scope=row>1</th><td>1</td><td>1</td><td>Allen, Miss. Elisabeth Walton                  </td><td>female</td><td>29.0000</td><td>0</td><td>0</td><td>24160 </td><td>211.3375</td><td>B5     </td><td>S</td><td>2 </td><td> NA</td><td>St Louis, MO                   </td></tr>\n",
       "\t<tr><th scope=row>2</th><td>1</td><td>1</td><td>Allison, Master. Hudson Trevor                 </td><td>male  </td><td> 0.9167</td><td>1</td><td>2</td><td>113781</td><td>151.5500</td><td>C22 C26</td><td>S</td><td>11</td><td> NA</td><td>Montreal, PQ / Chesterville, ON</td></tr>\n",
       "\t<tr><th scope=row>3</th><td>1</td><td>0</td><td>Allison, Miss. Helen Loraine                   </td><td>female</td><td> 2.0000</td><td>1</td><td>2</td><td>113781</td><td>151.5500</td><td>C22 C26</td><td>S</td><td>  </td><td> NA</td><td>Montreal, PQ / Chesterville, ON</td></tr>\n",
       "\t<tr><th scope=row>4</th><td>1</td><td>0</td><td>Allison, Mr. Hudson Joshua Creighton           </td><td>male  </td><td>30.0000</td><td>1</td><td>2</td><td>113781</td><td>151.5500</td><td>C22 C26</td><td>S</td><td>  </td><td>135</td><td>Montreal, PQ / Chesterville, ON</td></tr>\n",
       "\t<tr><th scope=row>5</th><td>1</td><td>0</td><td>Allison, Mrs. Hudson J C (Bessie Waldo Daniels)</td><td>female</td><td>25.0000</td><td>1</td><td>2</td><td>113781</td><td>151.5500</td><td>C22 C26</td><td>S</td><td>  </td><td> NA</td><td>Montreal, PQ / Chesterville, ON</td></tr>\n",
       "\t<tr><th scope=row>6</th><td>1</td><td>1</td><td>Anderson, Mr. Harry                            </td><td>male  </td><td>48.0000</td><td>0</td><td>0</td><td>19952 </td><td> 26.5500</td><td>E12    </td><td>S</td><td>3 </td><td> NA</td><td>New York, NY                   </td></tr>\n",
       "</tbody>\n",
       "</table>\n"
      ],
      "text/latex": [
       "A data.frame: 6 × 14\n",
       "\\begin{tabular}{r|llllllllllllll}\n",
       "  & pclass & survived & name & sex & age & sibsp & parch & ticket & fare & cabin & embarked & boat & body & home.dest\\\\\n",
       "  & <int> & <int> & <fct> & <fct> & <dbl> & <int> & <int> & <fct> & <dbl> & <fct> & <fct> & <fct> & <int> & <fct>\\\\\n",
       "\\hline\n",
       "\t1 & 1 & 1 & Allen, Miss. Elisabeth Walton                   & female & 29.0000 & 0 & 0 & 24160  & 211.3375 & B5      & S & 2  &  NA & St Louis, MO                   \\\\\n",
       "\t2 & 1 & 1 & Allison, Master. Hudson Trevor                  & male   &  0.9167 & 1 & 2 & 113781 & 151.5500 & C22 C26 & S & 11 &  NA & Montreal, PQ / Chesterville, ON\\\\\n",
       "\t3 & 1 & 0 & Allison, Miss. Helen Loraine                    & female &  2.0000 & 1 & 2 & 113781 & 151.5500 & C22 C26 & S &    &  NA & Montreal, PQ / Chesterville, ON\\\\\n",
       "\t4 & 1 & 0 & Allison, Mr. Hudson Joshua Creighton            & male   & 30.0000 & 1 & 2 & 113781 & 151.5500 & C22 C26 & S &    & 135 & Montreal, PQ / Chesterville, ON\\\\\n",
       "\t5 & 1 & 0 & Allison, Mrs. Hudson J C (Bessie Waldo Daniels) & female & 25.0000 & 1 & 2 & 113781 & 151.5500 & C22 C26 & S &    &  NA & Montreal, PQ / Chesterville, ON\\\\\n",
       "\t6 & 1 & 1 & Anderson, Mr. Harry                             & male   & 48.0000 & 0 & 0 & 19952  &  26.5500 & E12     & S & 3  &  NA & New York, NY                   \\\\\n",
       "\\end{tabular}\n"
      ],
      "text/markdown": [
       "\n",
       "A data.frame: 6 × 14\n",
       "\n",
       "| <!--/--> | pclass &lt;int&gt; | survived &lt;int&gt; | name &lt;fct&gt; | sex &lt;fct&gt; | age &lt;dbl&gt; | sibsp &lt;int&gt; | parch &lt;int&gt; | ticket &lt;fct&gt; | fare &lt;dbl&gt; | cabin &lt;fct&gt; | embarked &lt;fct&gt; | boat &lt;fct&gt; | body &lt;int&gt; | home.dest &lt;fct&gt; |\n",
       "|---|---|---|---|---|---|---|---|---|---|---|---|---|---|---|\n",
       "| 1 | 1 | 1 | Allen, Miss. Elisabeth Walton                   | female | 29.0000 | 0 | 0 | 24160  | 211.3375 | B5      | S | 2  |  NA | St Louis, MO                    |\n",
       "| 2 | 1 | 1 | Allison, Master. Hudson Trevor                  | male   |  0.9167 | 1 | 2 | 113781 | 151.5500 | C22 C26 | S | 11 |  NA | Montreal, PQ / Chesterville, ON |\n",
       "| 3 | 1 | 0 | Allison, Miss. Helen Loraine                    | female |  2.0000 | 1 | 2 | 113781 | 151.5500 | C22 C26 | S | <!----> |  NA | Montreal, PQ / Chesterville, ON |\n",
       "| 4 | 1 | 0 | Allison, Mr. Hudson Joshua Creighton            | male   | 30.0000 | 1 | 2 | 113781 | 151.5500 | C22 C26 | S | <!----> | 135 | Montreal, PQ / Chesterville, ON |\n",
       "| 5 | 1 | 0 | Allison, Mrs. Hudson J C (Bessie Waldo Daniels) | female | 25.0000 | 1 | 2 | 113781 | 151.5500 | C22 C26 | S | <!----> |  NA | Montreal, PQ / Chesterville, ON |\n",
       "| 6 | 1 | 1 | Anderson, Mr. Harry                             | male   | 48.0000 | 0 | 0 | 19952  |  26.5500 | E12     | S | 3  |  NA | New York, NY                    |\n",
       "\n"
      ],
      "text/plain": [
       "  pclass survived name                                            sex   \n",
       "1 1      1        Allen, Miss. Elisabeth Walton                   female\n",
       "2 1      1        Allison, Master. Hudson Trevor                  male  \n",
       "3 1      0        Allison, Miss. Helen Loraine                    female\n",
       "4 1      0        Allison, Mr. Hudson Joshua Creighton            male  \n",
       "5 1      0        Allison, Mrs. Hudson J C (Bessie Waldo Daniels) female\n",
       "6 1      1        Anderson, Mr. Harry                             male  \n",
       "  age     sibsp parch ticket fare     cabin   embarked boat body\n",
       "1 29.0000 0     0     24160  211.3375 B5      S        2     NA \n",
       "2  0.9167 1     2     113781 151.5500 C22 C26 S        11    NA \n",
       "3  2.0000 1     2     113781 151.5500 C22 C26 S              NA \n",
       "4 30.0000 1     2     113781 151.5500 C22 C26 S             135 \n",
       "5 25.0000 1     2     113781 151.5500 C22 C26 S              NA \n",
       "6 48.0000 0     0     19952   26.5500 E12     S        3     NA \n",
       "  home.dest                      \n",
       "1 St Louis, MO                   \n",
       "2 Montreal, PQ / Chesterville, ON\n",
       "3 Montreal, PQ / Chesterville, ON\n",
       "4 Montreal, PQ / Chesterville, ON\n",
       "5 Montreal, PQ / Chesterville, ON\n",
       "6 New York, NY                   "
      ]
     },
     "metadata": {},
     "output_type": "display_data"
    }
   ],
   "source": [
    "head(titanic)"
   ]
  },
  {
   "cell_type": "markdown",
   "metadata": {},
   "source": [
    "Znam da ovde na kraju postoji putnik za kog nema podataka. Da to ne biste otkrivali \"hard way\" pogledajte `tail` tabele. Ovog bi putnika valjalo izostaviti iz analize."
   ]
  },
  {
   "cell_type": "code",
   "execution_count": 3,
   "metadata": {},
   "outputs": [
    {
     "data": {
      "text/html": [
       "<table>\n",
       "<caption>A data.frame: 6 × 14</caption>\n",
       "<thead>\n",
       "\t<tr><th></th><th scope=col>pclass</th><th scope=col>survived</th><th scope=col>name</th><th scope=col>sex</th><th scope=col>age</th><th scope=col>sibsp</th><th scope=col>parch</th><th scope=col>ticket</th><th scope=col>fare</th><th scope=col>cabin</th><th scope=col>embarked</th><th scope=col>boat</th><th scope=col>body</th><th scope=col>home.dest</th></tr>\n",
       "\t<tr><th></th><th scope=col>&lt;int&gt;</th><th scope=col>&lt;int&gt;</th><th scope=col>&lt;fct&gt;</th><th scope=col>&lt;fct&gt;</th><th scope=col>&lt;dbl&gt;</th><th scope=col>&lt;int&gt;</th><th scope=col>&lt;int&gt;</th><th scope=col>&lt;fct&gt;</th><th scope=col>&lt;dbl&gt;</th><th scope=col>&lt;fct&gt;</th><th scope=col>&lt;fct&gt;</th><th scope=col>&lt;fct&gt;</th><th scope=col>&lt;int&gt;</th><th scope=col>&lt;fct&gt;</th></tr>\n",
       "</thead>\n",
       "<tbody>\n",
       "\t<tr><th scope=row>1305</th><td> 3</td><td> 0</td><td>Zabour, Miss. Hileni     </td><td>female</td><td>14.5</td><td> 1</td><td> 0</td><td>2665  </td><td>14.4542</td><td></td><td>C</td><td></td><td>328</td><td></td></tr>\n",
       "\t<tr><th scope=row>1306</th><td> 3</td><td> 0</td><td>Zabour, Miss. Thamine    </td><td>female</td><td>  NA</td><td> 1</td><td> 0</td><td>2665  </td><td>14.4542</td><td></td><td>C</td><td></td><td> NA</td><td></td></tr>\n",
       "\t<tr><th scope=row>1307</th><td> 3</td><td> 0</td><td>Zakarian, Mr. Mapriededer</td><td>male  </td><td>26.5</td><td> 0</td><td> 0</td><td>2656  </td><td> 7.2250</td><td></td><td>C</td><td></td><td>304</td><td></td></tr>\n",
       "\t<tr><th scope=row>1308</th><td> 3</td><td> 0</td><td>Zakarian, Mr. Ortin      </td><td>male  </td><td>27.0</td><td> 0</td><td> 0</td><td>2670  </td><td> 7.2250</td><td></td><td>C</td><td></td><td> NA</td><td></td></tr>\n",
       "\t<tr><th scope=row>1309</th><td> 3</td><td> 0</td><td>Zimmerman, Mr. Leo       </td><td>male  </td><td>29.0</td><td> 0</td><td> 0</td><td>315082</td><td> 7.8750</td><td></td><td>S</td><td></td><td> NA</td><td></td></tr>\n",
       "\t<tr><th scope=row>1310</th><td>NA</td><td>NA</td><td>                         </td><td>      </td><td>  NA</td><td>NA</td><td>NA</td><td>      </td><td>     NA</td><td></td><td> </td><td></td><td> NA</td><td></td></tr>\n",
       "</tbody>\n",
       "</table>\n"
      ],
      "text/latex": [
       "A data.frame: 6 × 14\n",
       "\\begin{tabular}{r|llllllllllllll}\n",
       "  & pclass & survived & name & sex & age & sibsp & parch & ticket & fare & cabin & embarked & boat & body & home.dest\\\\\n",
       "  & <int> & <int> & <fct> & <fct> & <dbl> & <int> & <int> & <fct> & <dbl> & <fct> & <fct> & <fct> & <int> & <fct>\\\\\n",
       "\\hline\n",
       "\t1305 &  3 &  0 & Zabour, Miss. Hileni      & female & 14.5 &  1 &  0 & 2665   & 14.4542 &  & C &  & 328 & \\\\\n",
       "\t1306 &  3 &  0 & Zabour, Miss. Thamine     & female &   NA &  1 &  0 & 2665   & 14.4542 &  & C &  &  NA & \\\\\n",
       "\t1307 &  3 &  0 & Zakarian, Mr. Mapriededer & male   & 26.5 &  0 &  0 & 2656   &  7.2250 &  & C &  & 304 & \\\\\n",
       "\t1308 &  3 &  0 & Zakarian, Mr. Ortin       & male   & 27.0 &  0 &  0 & 2670   &  7.2250 &  & C &  &  NA & \\\\\n",
       "\t1309 &  3 &  0 & Zimmerman, Mr. Leo        & male   & 29.0 &  0 &  0 & 315082 &  7.8750 &  & S &  &  NA & \\\\\n",
       "\t1310 & NA & NA &                           &        &   NA & NA & NA &        &      NA &  &   &  &  NA & \\\\\n",
       "\\end{tabular}\n"
      ],
      "text/markdown": [
       "\n",
       "A data.frame: 6 × 14\n",
       "\n",
       "| <!--/--> | pclass &lt;int&gt; | survived &lt;int&gt; | name &lt;fct&gt; | sex &lt;fct&gt; | age &lt;dbl&gt; | sibsp &lt;int&gt; | parch &lt;int&gt; | ticket &lt;fct&gt; | fare &lt;dbl&gt; | cabin &lt;fct&gt; | embarked &lt;fct&gt; | boat &lt;fct&gt; | body &lt;int&gt; | home.dest &lt;fct&gt; |\n",
       "|---|---|---|---|---|---|---|---|---|---|---|---|---|---|---|\n",
       "| 1305 |  3 |  0 | Zabour, Miss. Hileni      | female | 14.5 |  1 |  0 | 2665   | 14.4542 | <!----> | C | <!----> | 328 | <!----> |\n",
       "| 1306 |  3 |  0 | Zabour, Miss. Thamine     | female |   NA |  1 |  0 | 2665   | 14.4542 | <!----> | C | <!----> |  NA | <!----> |\n",
       "| 1307 |  3 |  0 | Zakarian, Mr. Mapriededer | male   | 26.5 |  0 |  0 | 2656   |  7.2250 | <!----> | C | <!----> | 304 | <!----> |\n",
       "| 1308 |  3 |  0 | Zakarian, Mr. Ortin       | male   | 27.0 |  0 |  0 | 2670   |  7.2250 | <!----> | C | <!----> |  NA | <!----> |\n",
       "| 1309 |  3 |  0 | Zimmerman, Mr. Leo        | male   | 29.0 |  0 |  0 | 315082 |  7.8750 | <!----> | S | <!----> |  NA | <!----> |\n",
       "| 1310 | NA | NA | <!----> | <!----> |   NA | NA | NA | <!----> |      NA | <!----> | <!----> | <!----> |  NA | <!----> |\n",
       "\n"
      ],
      "text/plain": [
       "     pclass survived name                      sex    age  sibsp parch ticket\n",
       "1305  3      0       Zabour, Miss. Hileni      female 14.5  1     0    2665  \n",
       "1306  3      0       Zabour, Miss. Thamine     female   NA  1     0    2665  \n",
       "1307  3      0       Zakarian, Mr. Mapriededer male   26.5  0     0    2656  \n",
       "1308  3      0       Zakarian, Mr. Ortin       male   27.0  0     0    2670  \n",
       "1309  3      0       Zimmerman, Mr. Leo        male   29.0  0     0    315082\n",
       "1310 NA     NA                                          NA NA    NA          \n",
       "     fare    cabin embarked boat body home.dest\n",
       "1305 14.4542       C             328           \n",
       "1306 14.4542       C              NA           \n",
       "1307  7.2250       C             304           \n",
       "1308  7.2250       C              NA           \n",
       "1309  7.8750       S              NA           \n",
       "1310      NA                      NA           "
      ]
     },
     "metadata": {},
     "output_type": "display_data"
    }
   ],
   "source": [
    "tail(titanic)"
   ]
  },
  {
   "cell_type": "code",
   "execution_count": 4,
   "metadata": {},
   "outputs": [],
   "source": [
    "# u R-u [-1310,] znači da izbacujemo 1310. red tabele\n",
    "titanic <- titanic[-1310,]"
   ]
  },
  {
   "cell_type": "markdown",
   "metadata": {},
   "source": [
    "Za prikaz rezultata ćemo koristiti biblioteku `ggplot2`. Ona ima malo lepši prikaz."
   ]
  },
  {
   "cell_type": "code",
   "execution_count": 5,
   "metadata": {},
   "outputs": [],
   "source": [
    "library(ggplot2)"
   ]
  },
  {
   "cell_type": "code",
   "execution_count": 6,
   "metadata": {},
   "outputs": [
    {
     "data": {
      "image/png": "[encoded data removed]",
      "text/plain": [
       "plot without title"
      ]
     },
     "metadata": {},
     "output_type": "display_data"
    }
   ],
   "source": [
    "options(repr.plot.width = 5, repr.plot.height = 2, repr.plot.res = 100)\n",
    "ggplot(titanic,aes(x=factor(survived),fill=factor(sex)))+\n",
    "  geom_bar(position=\"dodge\")\n"
   ]
  },
  {
   "cell_type": "markdown",
   "metadata": {},
   "source": [
    "Sad isto to, ali prema tome da li su preživeli ili ne."
   ]
  },
  {
   "cell_type": "code",
   "execution_count": 7,
   "metadata": {},
   "outputs": [
    {
     "data": {
      "image/png": "[encoded data removed]",
      "text/plain": [
       "plot without title"
      ]
     },
     "metadata": {},
     "output_type": "display_data"
    }
   ],
   "source": [
    "ggplot(titanic,aes(x=factor(pclass),fill=factor(sex)))+\n",
    "  geom_bar(position=\"dodge\")+\n",
    "  facet_grid(\". ~ survived\")"
   ]
  },
  {
   "cell_type": "markdown",
   "metadata": {},
   "source": [
    "Dodaćemo kolonu `child` u tabelu jer je to verovatno dobar prediktor. Svi koji imaju manje od 18 godina imaće flag 1 u toj koloni."
   ]
  },
  {
   "cell_type": "code",
   "execution_count": 8,
   "metadata": {},
   "outputs": [
    {
     "data": {
      "text/plain": [
       "     survived\n",
       "child   0   1\n",
       "    0 736 419\n",
       "    1  73  81"
      ]
     },
     "metadata": {},
     "output_type": "display_data"
    }
   ],
   "source": [
    "# dete\n",
    "titanic$child = 0\n",
    "titanic$child[titanic$age < 18] = 1\n",
    "\n",
    "# tabela preživljavanja\n",
    "table(child=titanic$child,survived=titanic$survived)"
   ]
  },
  {
   "cell_type": "code",
   "execution_count": 9,
   "metadata": {},
   "outputs": [
    {
     "data": {
      "image/png": "[encoded data removed]",
      "text/plain": [
       "plot without title"
      ]
     },
     "metadata": {},
     "output_type": "display_data"
    }
   ],
   "source": [
    "ggplot(titanic,aes(x=factor(survived),fill=factor(child)))+\n",
    "  geom_bar(position=\"dodge\")+\n",
    "  facet_grid(\". ~ pclass\")"
   ]
  },
  {
   "cell_type": "markdown",
   "metadata": {},
   "source": [
    "E, sad da pustimo mašinu da uči. "
   ]
  },
  {
   "cell_type": "markdown",
   "metadata": {},
   "source": [
    "Prvo uzimamo uzorak za učenje. Otprilike 75% cele tabele. Taj deo ćemo zvati `train`. Ostatak ćemo uzeti za testiranje i zvaćemo ga  `test`."
   ]
  },
  {
   "cell_type": "code",
   "execution_count": 10,
   "metadata": {},
   "outputs": [],
   "source": [
    "# slučajnih 1000 redova\n",
    "uzorak=sample(1:1309, 1000)"
   ]
  },
  {
   "cell_type": "code",
   "execution_count": 11,
   "metadata": {},
   "outputs": [],
   "source": [
    "train=titanic[uzorak,]"
   ]
  },
  {
   "cell_type": "code",
   "execution_count": 12,
   "metadata": {},
   "outputs": [],
   "source": [
    "test=titanic[-uzorak,]"
   ]
  },
  {
   "cell_type": "code",
   "execution_count": 13,
   "metadata": {},
   "outputs": [
    {
     "data": {
      "text/html": [
       "<table>\n",
       "<caption>A data.frame: 6 × 15</caption>\n",
       "<thead>\n",
       "\t<tr><th></th><th scope=col>pclass</th><th scope=col>survived</th><th scope=col>name</th><th scope=col>sex</th><th scope=col>age</th><th scope=col>sibsp</th><th scope=col>parch</th><th scope=col>ticket</th><th scope=col>fare</th><th scope=col>cabin</th><th scope=col>embarked</th><th scope=col>boat</th><th scope=col>body</th><th scope=col>home.dest</th><th scope=col>child</th></tr>\n",
       "\t<tr><th></th><th scope=col>&lt;int&gt;</th><th scope=col>&lt;int&gt;</th><th scope=col>&lt;fct&gt;</th><th scope=col>&lt;fct&gt;</th><th scope=col>&lt;dbl&gt;</th><th scope=col>&lt;int&gt;</th><th scope=col>&lt;int&gt;</th><th scope=col>&lt;fct&gt;</th><th scope=col>&lt;dbl&gt;</th><th scope=col>&lt;fct&gt;</th><th scope=col>&lt;fct&gt;</th><th scope=col>&lt;fct&gt;</th><th scope=col>&lt;int&gt;</th><th scope=col>&lt;fct&gt;</th><th scope=col>&lt;dbl&gt;</th></tr>\n",
       "</thead>\n",
       "<tbody>\n",
       "\t<tr><th scope=row>1125</th><td>3</td><td>0</td><td>Peters, Miss. Katie                          </td><td>female</td><td>NA</td><td>0</td><td>0</td><td>330935 </td><td> 8.1375</td><td></td><td>Q</td><td>  </td><td>NA</td><td>                               </td><td>0</td></tr>\n",
       "\t<tr><th scope=row>396</th><td>2</td><td>1</td><td>Doling, Miss. Elsie                          </td><td>female</td><td>18</td><td>0</td><td>1</td><td>231919 </td><td>23.0000</td><td></td><td>S</td><td>  </td><td>NA</td><td>Southampton                    </td><td>0</td></tr>\n",
       "\t<tr><th scope=row>405</th><td>2</td><td>0</td><td>Enander, Mr. Ingvar                          </td><td>male  </td><td>21</td><td>0</td><td>0</td><td>236854 </td><td>13.0000</td><td></td><td>S</td><td>  </td><td>NA</td><td>Goteborg, Sweden / Rockford, IL</td><td>0</td></tr>\n",
       "\t<tr><th scope=row>366</th><td>2</td><td>0</td><td>Carter, Mrs. Ernest Courtenay (Lilian Hughes)</td><td>female</td><td>44</td><td>1</td><td>0</td><td>244252 </td><td>26.0000</td><td></td><td>S</td><td>  </td><td>NA</td><td>London                         </td><td>0</td></tr>\n",
       "\t<tr><th scope=row>1103</th><td>3</td><td>0</td><td>Panula, Master. Juha Niilo                   </td><td>male  </td><td> 7</td><td>4</td><td>1</td><td>3101295</td><td>39.6875</td><td></td><td>S</td><td>  </td><td>NA</td><td>                               </td><td>1</td></tr>\n",
       "\t<tr><th scope=row>1150</th><td>3</td><td>1</td><td>Riordan, Miss. Johanna \"Hannah\"              </td><td>female</td><td>NA</td><td>0</td><td>0</td><td>334915 </td><td> 7.7208</td><td></td><td>Q</td><td>13</td><td>NA</td><td>                               </td><td>0</td></tr>\n",
       "</tbody>\n",
       "</table>\n"
      ],
      "text/latex": [
       "A data.frame: 6 × 15\n",
       "\\begin{tabular}{r|lllllllllllllll}\n",
       "  & pclass & survived & name & sex & age & sibsp & parch & ticket & fare & cabin & embarked & boat & body & home.dest & child\\\\\n",
       "  & <int> & <int> & <fct> & <fct> & <dbl> & <int> & <int> & <fct> & <dbl> & <fct> & <fct> & <fct> & <int> & <fct> & <dbl>\\\\\n",
       "\\hline\n",
       "\t1125 & 3 & 0 & Peters, Miss. Katie                           & female & NA & 0 & 0 & 330935  &  8.1375 &  & Q &    & NA &                                 & 0\\\\\n",
       "\t396 & 2 & 1 & Doling, Miss. Elsie                           & female & 18 & 0 & 1 & 231919  & 23.0000 &  & S &    & NA & Southampton                     & 0\\\\\n",
       "\t405 & 2 & 0 & Enander, Mr. Ingvar                           & male   & 21 & 0 & 0 & 236854  & 13.0000 &  & S &    & NA & Goteborg, Sweden / Rockford, IL & 0\\\\\n",
       "\t366 & 2 & 0 & Carter, Mrs. Ernest Courtenay (Lilian Hughes) & female & 44 & 1 & 0 & 244252  & 26.0000 &  & S &    & NA & London                          & 0\\\\\n",
       "\t1103 & 3 & 0 & Panula, Master. Juha Niilo                    & male   &  7 & 4 & 1 & 3101295 & 39.6875 &  & S &    & NA &                                 & 1\\\\\n",
       "\t1150 & 3 & 1 & Riordan, Miss. Johanna \"Hannah\"               & female & NA & 0 & 0 & 334915  &  7.7208 &  & Q & 13 & NA &                                 & 0\\\\\n",
       "\\end{tabular}\n"
      ],
      "text/markdown": [
       "\n",
       "A data.frame: 6 × 15\n",
       "\n",
       "| <!--/--> | pclass &lt;int&gt; | survived &lt;int&gt; | name &lt;fct&gt; | sex &lt;fct&gt; | age &lt;dbl&gt; | sibsp &lt;int&gt; | parch &lt;int&gt; | ticket &lt;fct&gt; | fare &lt;dbl&gt; | cabin &lt;fct&gt; | embarked &lt;fct&gt; | boat &lt;fct&gt; | body &lt;int&gt; | home.dest &lt;fct&gt; | child &lt;dbl&gt; |\n",
       "|---|---|---|---|---|---|---|---|---|---|---|---|---|---|---|---|\n",
       "| 1125 | 3 | 0 | Peters, Miss. Katie                           | female | NA | 0 | 0 | 330935  |  8.1375 | <!----> | Q | <!----> | NA | <!----> | 0 |\n",
       "| 396 | 2 | 1 | Doling, Miss. Elsie                           | female | 18 | 0 | 1 | 231919  | 23.0000 | <!----> | S | <!----> | NA | Southampton                     | 0 |\n",
       "| 405 | 2 | 0 | Enander, Mr. Ingvar                           | male   | 21 | 0 | 0 | 236854  | 13.0000 | <!----> | S | <!----> | NA | Goteborg, Sweden / Rockford, IL | 0 |\n",
       "| 366 | 2 | 0 | Carter, Mrs. Ernest Courtenay (Lilian Hughes) | female | 44 | 1 | 0 | 244252  | 26.0000 | <!----> | S | <!----> | NA | London                          | 0 |\n",
       "| 1103 | 3 | 0 | Panula, Master. Juha Niilo                    | male   |  7 | 4 | 1 | 3101295 | 39.6875 | <!----> | S | <!----> | NA | <!----> | 1 |\n",
       "| 1150 | 3 | 1 | Riordan, Miss. Johanna \"Hannah\"               | female | NA | 0 | 0 | 334915  |  7.7208 | <!----> | Q | 13 | NA | <!----> | 0 |\n",
       "\n"
      ],
      "text/plain": [
       "     pclass survived name                                          sex    age\n",
       "1125 3      0        Peters, Miss. Katie                           female NA \n",
       "396  2      1        Doling, Miss. Elsie                           female 18 \n",
       "405  2      0        Enander, Mr. Ingvar                           male   21 \n",
       "366  2      0        Carter, Mrs. Ernest Courtenay (Lilian Hughes) female 44 \n",
       "1103 3      0        Panula, Master. Juha Niilo                    male    7 \n",
       "1150 3      1        Riordan, Miss. Johanna \"Hannah\"               female NA \n",
       "     sibsp parch ticket  fare    cabin embarked boat body\n",
       "1125 0     0     330935   8.1375       Q             NA  \n",
       "396  0     1     231919  23.0000       S             NA  \n",
       "405  0     0     236854  13.0000       S             NA  \n",
       "366  1     0     244252  26.0000       S             NA  \n",
       "1103 4     1     3101295 39.6875       S             NA  \n",
       "1150 0     0     334915   7.7208       Q        13   NA  \n",
       "     home.dest                       child\n",
       "1125                                 0    \n",
       "396  Southampton                     0    \n",
       "405  Goteborg, Sweden / Rockford, IL 0    \n",
       "366  London                          0    \n",
       "1103                                 1    \n",
       "1150                                 0    "
      ]
     },
     "metadata": {},
     "output_type": "display_data"
    }
   ],
   "source": [
    "head(train)"
   ]
  },
  {
   "cell_type": "markdown",
   "metadata": {},
   "source": [
    "### Stablo odlučivanja\n",
    "\n",
    "Ovaj algoritam bira najbolja pitanja (zasnovana na podacima u tabeli) kojima mogućnosti deli tako da informativnost bude najveća. Na taj način ćemo sa nekoliko pitanja dobiti najpouzdaniju moguću predikciju.\n",
    "\n",
    "Za to ćemo koristiti biblioteku `rpart`."
   ]
  },
  {
   "cell_type": "code",
   "execution_count": 14,
   "metadata": {},
   "outputs": [],
   "source": [
    "# ako treba, instalirajte prvo biblioteku sa install.packages('rpart')\n",
    "library(rpart)"
   ]
  },
  {
   "cell_type": "markdown",
   "metadata": {},
   "source": [
    "### Učenje"
   ]
  },
  {
   "cell_type": "code",
   "execution_count": 15,
   "metadata": {},
   "outputs": [],
   "source": [
    "# mašina uči na osnovu svih podataka čiji su nazivi dati posle ~\n",
    "#drvo <- rpart(survived ~ pclass + sex + age + sibsp + parch + fare + embarked, data = train, method = \"class\")\n",
    "drvo <- rpart(survived ~ pclass + sex + child, data = train, method = \"class\")"
   ]
  },
  {
   "cell_type": "markdown",
   "metadata": {},
   "source": [
    "Sad crtamo drvo uz pomoć funkcije `plot`. Ovo će verovatno izgledati katastrofalno."
   ]
  },
  {
   "cell_type": "code",
   "execution_count": 16,
   "metadata": {},
   "outputs": [
    {
     "data": {
      "image/png": "[encoded data removed]",
      "text/plain": [
       "plot without title"
      ]
     },
     "metadata": {},
     "output_type": "display_data"
    }
   ],
   "source": [
    "options(repr.plot.width = 5, repr.plot.height = 4, repr.plot.res = 100)\n",
    "plot(drvo)\n",
    "text(drvo,cex = .7)"
   ]
  },
  {
   "cell_type": "markdown",
   "metadata": {},
   "source": [
    "Srećom, postoje biblioteke koje bolje crtaju ova stabla."
   ]
  },
  {
   "cell_type": "code",
   "execution_count": 17,
   "metadata": {},
   "outputs": [
    {
     "name": "stderr",
     "output_type": "stream",
     "text": [
      "Warning message:\n",
      "\"package 'rattle' was built under R version 3.6.3\"Rattle: A free graphical interface for data science with R.\n",
      "Version 5.3.0 Copyright (c) 2006-2018 Togaware Pty Ltd.\n",
      "Type 'rattle()' to shake, rattle, and roll your data.\n",
      "Warning message:\n",
      "\"package 'rpart.plot' was built under R version 3.6.3\""
     ]
    }
   ],
   "source": [
    "#install.packages('rattle')\n",
    "\n",
    "library(rattle)\n",
    "library(rpart.plot)\n",
    "library(RColorBrewer)"
   ]
  },
  {
   "cell_type": "code",
   "execution_count": 18,
   "metadata": {},
   "outputs": [
    {
     "data": {
      "image/png": "[encoded data removed]",
      "text/plain": [
       "Plot with title \"\""
      ]
     },
     "metadata": {},
     "output_type": "display_data"
    }
   ],
   "source": [
    "# \"fancy\" varijanta\n",
    "fancyRpartPlot(drvo)"
   ]
  },
  {
   "cell_type": "markdown",
   "metadata": {},
   "source": [
    "### Predikcije\n",
    "\n",
    "Sad da vidimo koliko su dobre predikcije za ovo stablo."
   ]
  },
  {
   "cell_type": "code",
   "execution_count": 19,
   "metadata": {},
   "outputs": [],
   "source": [
    "# uvek koristimo test za testiranje!\n",
    "predikcije <- predict(drvo, test, type = \"class\")\n",
    "\n",
    "redni_broj = as.numeric(row.names(test))\n",
    "izlaz <- data.frame(redni_broj, predikcija = predikcije, preziveo=titanic$survived[redni_broj])"
   ]
  },
  {
   "cell_type": "markdown",
   "metadata": {},
   "source": [
    "Računamo koliko ima True Positiv (TP), False Negative (FN), False Positive (FP) i True Negative (TN) predikcija."
   ]
  },
  {
   "cell_type": "code",
   "execution_count": 20,
   "metadata": {},
   "outputs": [],
   "source": [
    "TP=sum(izlaz$predikcija==1 & izlaz$preziveo==1)\n",
    "FN=sum(izlaz$predikcija==0 & izlaz$preziveo==1)\n",
    "FP=sum(izlaz$predikcija==1 & izlaz$preziveo==0)\n",
    "TN=sum(izlaz$predikcija==0 & izlaz$preziveo==0)"
   ]
  },
  {
   "cell_type": "markdown",
   "metadata": {},
   "source": [
    "Na osnovu tih podataka računamo tačnost, preciznost, osetljivost i specifičnost predikcije."
   ]
  },
  {
   "cell_type": "code",
   "execution_count": 21,
   "metadata": {},
   "outputs": [],
   "source": [
    "accuracy=(TP+TN)/(TP+TN+FP+FN)\n",
    "precision=TP/(TP+FP)\n",
    "sensitivity=TP/(TP+FN)\n",
    "specificity=TN/(TN+FP)"
   ]
  },
  {
   "cell_type": "code",
   "execution_count": 22,
   "metadata": {},
   "outputs": [
    {
     "data": {
      "text/html": [
       "0.760517799352751"
      ],
      "text/latex": [
       "0.760517799352751"
      ],
      "text/markdown": [
       "0.760517799352751"
      ],
      "text/plain": [
       "[1] 0.7605178"
      ]
     },
     "metadata": {},
     "output_type": "display_data"
    }
   ],
   "source": [
    "accuracy"
   ]
  },
  {
   "cell_type": "code",
   "execution_count": 23,
   "metadata": {},
   "outputs": [
    {
     "data": {
      "text/html": [
       "0.958904109589041"
      ],
      "text/latex": [
       "0.958904109589041"
      ],
      "text/markdown": [
       "0.958904109589041"
      ],
      "text/plain": [
       "[1] 0.9589041"
      ]
     },
     "metadata": {},
     "output_type": "display_data"
    }
   ],
   "source": [
    "precision"
   ]
  },
  {
   "cell_type": "code",
   "execution_count": 24,
   "metadata": {},
   "outputs": [
    {
     "data": {
      "text/html": [
       "0.49645390070922"
      ],
      "text/latex": [
       "0.49645390070922"
      ],
      "text/markdown": [
       "0.49645390070922"
      ],
      "text/plain": [
       "[1] 0.4964539"
      ]
     },
     "metadata": {},
     "output_type": "display_data"
    }
   ],
   "source": [
    "sensitivity"
   ]
  },
  {
   "cell_type": "code",
   "execution_count": 25,
   "metadata": {},
   "outputs": [
    {
     "data": {
      "text/html": [
       "0.982142857142857"
      ],
      "text/latex": [
       "0.982142857142857"
      ],
      "text/markdown": [
       "0.982142857142857"
      ],
      "text/plain": [
       "[1] 0.9821429"
      ]
     },
     "metadata": {},
     "output_type": "display_data"
    }
   ],
   "source": [
    "specificity"
   ]
  },
  {
   "cell_type": "markdown",
   "metadata": {},
   "source": [
    "Sad ove podatke možemo da smestimo u \"confusion matrix\"."
   ]
  },
  {
   "cell_type": "code",
   "execution_count": 26,
   "metadata": {},
   "outputs": [],
   "source": [
    "cm=data.frame(survived=c(TP,FN),drowned=c(FP,TN),row.names = c(\"positive\",\"negative\"))"
   ]
  },
  {
   "cell_type": "code",
   "execution_count": 27,
   "metadata": {},
   "outputs": [
    {
     "data": {
      "text/html": [
       "<table>\n",
       "<caption>A data.frame: 2 × 2</caption>\n",
       "<thead>\n",
       "\t<tr><th></th><th scope=col>survived</th><th scope=col>drowned</th></tr>\n",
       "\t<tr><th></th><th scope=col>&lt;int&gt;</th><th scope=col>&lt;int&gt;</th></tr>\n",
       "</thead>\n",
       "<tbody>\n",
       "\t<tr><th scope=row>positive</th><td>70</td><td>  3</td></tr>\n",
       "\t<tr><th scope=row>negative</th><td>71</td><td>165</td></tr>\n",
       "</tbody>\n",
       "</table>\n"
      ],
      "text/latex": [
       "A data.frame: 2 × 2\n",
       "\\begin{tabular}{r|ll}\n",
       "  & survived & drowned\\\\\n",
       "  & <int> & <int>\\\\\n",
       "\\hline\n",
       "\tpositive & 70 &   3\\\\\n",
       "\tnegative & 71 & 165\\\\\n",
       "\\end{tabular}\n"
      ],
      "text/markdown": [
       "\n",
       "A data.frame: 2 × 2\n",
       "\n",
       "| <!--/--> | survived &lt;int&gt; | drowned &lt;int&gt; |\n",
       "|---|---|---|\n",
       "| positive | 70 |   3 |\n",
       "| negative | 71 | 165 |\n",
       "\n"
      ],
      "text/plain": [
       "         survived drowned\n",
       "positive 70         3    \n",
       "negative 71       165    "
      ]
     },
     "metadata": {},
     "output_type": "display_data"
    }
   ],
   "source": [
    "cm"
   ]
  },
  {
   "cell_type": "markdown",
   "metadata": {},
   "source": [
    "Probajte drvo odlučivanja sa različitim prediktorima. Možda ne moramo da ih uzmemo sve. Kako sad izgleda matrica konfuzije?"
   ]
  }
 ],
 "metadata": {
  "kernelspec": {
   "display_name": "R",
   "language": "R",
   "name": "ir"
  },
  "language_info": {
   "codemirror_mode": "r",
   "file_extension": ".r",
   "mimetype": "text/x-r-source",
   "name": "R",
   "pygments_lexer": "r",
   "version": "3.6.1"
  }
 },
 "nbformat": 4,
 "nbformat_minor": 4
}
